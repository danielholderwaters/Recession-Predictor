{
 "cells": [
  {
   "cell_type": "code",
   "execution_count": 17,
   "metadata": {},
   "outputs": [],
   "source": [
    "#recession predictor\n",
    "#predict % likelihood of recession\n",
    "import requests\n",
    "import json\n",
    "import pandas as pd\n",
    "import matplotlib.pyplot as plt\n",
    "from fredapi import Fred\n",
    "#get data: quarterly gdp data, leading economic indicators\n",
    "#all data can probably be found on FRED database.  to get an api key, register here: https://research.stlouisfed.org/docs/api/fred/\n",
    "#Using the fredapi wrapper, the data is returned \n",
    "from config import fredKey\n",
    "fred = Fred(api_key=fredKey)\n",
    "\n",
    "#data sources\n",
    "recession = 'USREC' # monthly. binary.  NBER based recession indicators for the united states from the period following the peak to the trough.\n",
    "stockMarket = 'SPASTT01USM661N' # monthly. Total Share Prices for All Shares for the United States \n",
    "durableGoods = 'CAPUTLG3361T3SQ' #quarterly. motor vehicles and parts\n",
    "                                 # monthly. CAPUTLG3361T3S   \n",
    "manufacturingOrders = 'ODMNTO02USQ470S' #quarterly. value of total orders for manufacturing in US\n",
    "                                #no monthly #\n",
    "inventoriesDelta = 'A015RX1Q020SBEA'# quarterly. change in private inventories Nonfarm\n",
    "inventoriesDeltaTotal = 'A014RY2Q224SBEA' #quarterly. change in private inventories total\n",
    "retailSales = 'SLRTTO01USQ661S' #quarterly. volume of total US retail sales\n",
    "                                #monthly  Sales: Retail trade: Total retail trade: Volume for the United States (USASLRTTO01GYSAM)\n",
    "housingPermits = 'PERMIT' #monthly. new private housing building permits\n",
    "housePrice = 'MSPUS' #quarterly. median housing sale price US\n",
    "                        #monthly Median Sales Price for New Houses Sold in the United States (MSPNHSUS)\n",
    "leadingIndex = 'USSLIND' #monthly. leading index for US\n",
    "employment = 'USTRADE' #monthly. retail trade employment\n",
    "\n",
    "variables = [recession, stockMarket, durableGoods, manufacturingOrders,\n",
    "            inventoriesDelta, inventoriesDeltaTotal,\n",
    "            retailSales, housingPermits, housePrice, \n",
    "            leadingIndex, employment]\n",
    "\n",
    "names = ['recession', 'stockMarket', 'durableGoods', 'manufacturingOrders',\n",
    "            'inventoriesDelta', 'inventoriesDeltaTotal',\n",
    "            'retailSales', 'housingPermits', 'housePrice', \n",
    "            'leadingIndex', 'employment']"
   ]
  },
  {
   "cell_type": "code",
   "execution_count": 2,
   "metadata": {},
   "outputs": [
    {
     "name": "stdout",
     "output_type": "stream",
     "text": [
      "looking up data for USREC\n",
      "looking up data for SPASTT01USM661N\n",
      "looking up data for CAPUTLG3361T3SQ\n",
      "looking up data for ODMNTO02USQ470S\n",
      "looking up data for A015RX1Q020SBEA\n",
      "looking up data for A014RY2Q224SBEA\n",
      "looking up data for SLRTTO01USQ661S\n",
      "looking up data for PERMIT\n",
      "looking up data for MSPUS\n",
      "looking up data for USSLIND\n",
      "looking up data for USTRADE\n"
     ]
    }
   ],
   "source": [
    "#Using fredapi to download pandas series, converting this to a dictionary of dataframes, turning data quarterly\n",
    "\n",
    "d = []\n",
    "for item in variables:\n",
    "    print(f'looking up data for {item}')\n",
    "    data = fred.get_series(item)\n",
    "    name = names[variables.index(item)]\n",
    "    #this line creates the dataframe \n",
    "    d.append(pd.DataFrame({'date': data.index, name : data.values}))\n",
    "    \n",
    "    \n",
    "#d.keys() #returns the names of the dataframes within the dictionary d.  we will organize them next"
   ]
  },
  {
   "cell_type": "code",
   "execution_count": 3,
   "metadata": {},
   "outputs": [
    {
     "data": {
      "text/html": [
       "<div>\n",
       "<style scoped>\n",
       "    .dataframe tbody tr th:only-of-type {\n",
       "        vertical-align: middle;\n",
       "    }\n",
       "\n",
       "    .dataframe tbody tr th {\n",
       "        vertical-align: top;\n",
       "    }\n",
       "\n",
       "    .dataframe thead th {\n",
       "        text-align: right;\n",
       "    }\n",
       "</style>\n",
       "<table border=\"1\" class=\"dataframe\">\n",
       "  <thead>\n",
       "    <tr style=\"text-align: right;\">\n",
       "      <th></th>\n",
       "      <th>recession</th>\n",
       "      <th>stockMarket</th>\n",
       "      <th>durableGoods</th>\n",
       "      <th>manufacturingOrders</th>\n",
       "      <th>inventoriesDelta</th>\n",
       "      <th>inventoriesDeltaTotal</th>\n",
       "      <th>retailSales</th>\n",
       "      <th>housingPermits</th>\n",
       "      <th>housePrice</th>\n",
       "      <th>employment</th>\n",
       "      <th>...</th>\n",
       "      <th>MOYrDelta</th>\n",
       "      <th>RSYrDelta</th>\n",
       "      <th>HPriceQDelta</th>\n",
       "      <th>PermQDela</th>\n",
       "      <th>PermYrDela</th>\n",
       "      <th>EmpQDela</th>\n",
       "      <th>rec1Q</th>\n",
       "      <th>rec2Q</th>\n",
       "      <th>rec3Q</th>\n",
       "      <th>rec4Q</th>\n",
       "    </tr>\n",
       "    <tr>\n",
       "      <th>date</th>\n",
       "      <th></th>\n",
       "      <th></th>\n",
       "      <th></th>\n",
       "      <th></th>\n",
       "      <th></th>\n",
       "      <th></th>\n",
       "      <th></th>\n",
       "      <th></th>\n",
       "      <th></th>\n",
       "      <th></th>\n",
       "      <th></th>\n",
       "      <th></th>\n",
       "      <th></th>\n",
       "      <th></th>\n",
       "      <th></th>\n",
       "      <th></th>\n",
       "      <th></th>\n",
       "      <th></th>\n",
       "      <th></th>\n",
       "      <th></th>\n",
       "      <th></th>\n",
       "    </tr>\n",
       "  </thead>\n",
       "  <tbody>\n",
       "    <tr>\n",
       "      <th>2018-01-01</th>\n",
       "      <td>0.0</td>\n",
       "      <td>120.604671</td>\n",
       "      <td>79.4192</td>\n",
       "      <td>4.897290e+11</td>\n",
       "      <td>35.918</td>\n",
       "      <td>0.27</td>\n",
       "      <td>105.132537</td>\n",
       "      <td>1355.333333</td>\n",
       "      <td>331800.0</td>\n",
       "      <td>15825.600000</td>\n",
       "      <td>...</td>\n",
       "      <td>0.079671</td>\n",
       "      <td>0.024168</td>\n",
       "      <td>-0.018053</td>\n",
       "      <td>0.020070</td>\n",
       "      <td>0.054461</td>\n",
       "      <td>0.000599</td>\n",
       "      <td>0.0</td>\n",
       "      <td>0.0</td>\n",
       "      <td>0.0</td>\n",
       "      <td>0.0</td>\n",
       "    </tr>\n",
       "    <tr>\n",
       "      <th>2018-04-01</th>\n",
       "      <td>0.0</td>\n",
       "      <td>118.101584</td>\n",
       "      <td>77.1463</td>\n",
       "      <td>4.988073e+11</td>\n",
       "      <td>-30.955</td>\n",
       "      <td>-1.17</td>\n",
       "      <td>106.370794</td>\n",
       "      <td>1319.000000</td>\n",
       "      <td>315600.0</td>\n",
       "      <td>15838.800000</td>\n",
       "      <td>...</td>\n",
       "      <td>0.076990</td>\n",
       "      <td>0.029594</td>\n",
       "      <td>-0.048825</td>\n",
       "      <td>-0.026808</td>\n",
       "      <td>0.049046</td>\n",
       "      <td>0.000834</td>\n",
       "      <td>0.0</td>\n",
       "      <td>0.0</td>\n",
       "      <td>0.0</td>\n",
       "      <td>0.0</td>\n",
       "    </tr>\n",
       "    <tr>\n",
       "      <th>2018-07-01</th>\n",
       "      <td>0.0</td>\n",
       "      <td>121.024100</td>\n",
       "      <td>78.6890</td>\n",
       "      <td>5.087443e+11</td>\n",
       "      <td>95.392</td>\n",
       "      <td>2.33</td>\n",
       "      <td>NaN</td>\n",
       "      <td>1274.000000</td>\n",
       "      <td>325200.0</td>\n",
       "      <td>15819.666667</td>\n",
       "      <td>...</td>\n",
       "      <td>0.091254</td>\n",
       "      <td>NaN</td>\n",
       "      <td>0.030418</td>\n",
       "      <td>-0.034117</td>\n",
       "      <td>0.002623</td>\n",
       "      <td>-0.001208</td>\n",
       "      <td>0.0</td>\n",
       "      <td>0.0</td>\n",
       "      <td>0.0</td>\n",
       "      <td>0.0</td>\n",
       "    </tr>\n",
       "    <tr>\n",
       "      <th>2018-10-01</th>\n",
       "      <td>0.0</td>\n",
       "      <td>113.901019</td>\n",
       "      <td>79.6394</td>\n",
       "      <td>NaN</td>\n",
       "      <td>NaN</td>\n",
       "      <td>NaN</td>\n",
       "      <td>NaN</td>\n",
       "      <td>1296.500000</td>\n",
       "      <td>NaN</td>\n",
       "      <td>15812.066667</td>\n",
       "      <td>...</td>\n",
       "      <td>NaN</td>\n",
       "      <td>NaN</td>\n",
       "      <td>NaN</td>\n",
       "      <td>0.017661</td>\n",
       "      <td>-0.024210</td>\n",
       "      <td>-0.000480</td>\n",
       "      <td>0.0</td>\n",
       "      <td>0.0</td>\n",
       "      <td>0.0</td>\n",
       "      <td>0.0</td>\n",
       "    </tr>\n",
       "    <tr>\n",
       "      <th>2019-01-01</th>\n",
       "      <td>0.0</td>\n",
       "      <td>NaN</td>\n",
       "      <td>NaN</td>\n",
       "      <td>NaN</td>\n",
       "      <td>NaN</td>\n",
       "      <td>NaN</td>\n",
       "      <td>NaN</td>\n",
       "      <td>NaN</td>\n",
       "      <td>NaN</td>\n",
       "      <td>15835.700000</td>\n",
       "      <td>...</td>\n",
       "      <td>NaN</td>\n",
       "      <td>NaN</td>\n",
       "      <td>NaN</td>\n",
       "      <td>NaN</td>\n",
       "      <td>NaN</td>\n",
       "      <td>0.001495</td>\n",
       "      <td>0.0</td>\n",
       "      <td>0.0</td>\n",
       "      <td>0.0</td>\n",
       "      <td>0.0</td>\n",
       "    </tr>\n",
       "  </tbody>\n",
       "</table>\n",
       "<p>5 rows × 23 columns</p>\n",
       "</div>"
      ],
      "text/plain": [
       "            recession  stockMarket  durableGoods  manufacturingOrders  \\\n",
       "date                                                                    \n",
       "2018-01-01        0.0   120.604671       79.4192         4.897290e+11   \n",
       "2018-04-01        0.0   118.101584       77.1463         4.988073e+11   \n",
       "2018-07-01        0.0   121.024100       78.6890         5.087443e+11   \n",
       "2018-10-01        0.0   113.901019       79.6394                  NaN   \n",
       "2019-01-01        0.0          NaN           NaN                  NaN   \n",
       "\n",
       "            inventoriesDelta  inventoriesDeltaTotal  retailSales  \\\n",
       "date                                                               \n",
       "2018-01-01            35.918                   0.27   105.132537   \n",
       "2018-04-01           -30.955                  -1.17   106.370794   \n",
       "2018-07-01            95.392                   2.33          NaN   \n",
       "2018-10-01               NaN                    NaN          NaN   \n",
       "2019-01-01               NaN                    NaN          NaN   \n",
       "\n",
       "            housingPermits  housePrice    employment  ...    MOYrDelta  \\\n",
       "date                                                  ...                \n",
       "2018-01-01     1355.333333    331800.0  15825.600000  ...     0.079671   \n",
       "2018-04-01     1319.000000    315600.0  15838.800000  ...     0.076990   \n",
       "2018-07-01     1274.000000    325200.0  15819.666667  ...     0.091254   \n",
       "2018-10-01     1296.500000         NaN  15812.066667  ...          NaN   \n",
       "2019-01-01             NaN         NaN  15835.700000  ...          NaN   \n",
       "\n",
       "            RSYrDelta  HPriceQDelta  PermQDela  PermYrDela  EmpQDela  rec1Q  \\\n",
       "date                                                                          \n",
       "2018-01-01   0.024168     -0.018053   0.020070    0.054461  0.000599    0.0   \n",
       "2018-04-01   0.029594     -0.048825  -0.026808    0.049046  0.000834    0.0   \n",
       "2018-07-01        NaN      0.030418  -0.034117    0.002623 -0.001208    0.0   \n",
       "2018-10-01        NaN           NaN   0.017661   -0.024210 -0.000480    0.0   \n",
       "2019-01-01        NaN           NaN        NaN         NaN  0.001495    0.0   \n",
       "\n",
       "            rec2Q  rec3Q  rec4Q  \n",
       "date                             \n",
       "2018-01-01    0.0    0.0    0.0  \n",
       "2018-04-01    0.0    0.0    0.0  \n",
       "2018-07-01    0.0    0.0    0.0  \n",
       "2018-10-01    0.0    0.0    0.0  \n",
       "2019-01-01    0.0    0.0    0.0  \n",
       "\n",
       "[5 rows x 23 columns]"
      ]
     },
     "execution_count": 3,
     "metadata": {},
     "output_type": "execute_result"
    }
   ],
   "source": [
    "#playing with data here - not dropping NAs just yet.  maybe will eliminate some variables instead...\n",
    "df2 = pd.concat([a.set_index('date') for a in d], axis=1).resample('QS').mean()\n",
    "df2[\"SMQDelta\"] = (df2.stockMarket - df2.stockMarket.shift(1))/df2.stockMarket.shift(1)\n",
    "df2[\"DGQDelta\"] = (df2.durableGoods - df2.durableGoods.shift(1))/df2.durableGoods.shift(1)\n",
    "df2[\"DGYrDelta\"] = (df2.durableGoods - df2.durableGoods.shift(4))/df2.durableGoods.shift(4)\n",
    "df2[\"MOYrDelta\"] = (df2.manufacturingOrders - df2.manufacturingOrders.shift(4))/df2.manufacturingOrders.shift(4)\n",
    "df2[\"RSYrDelta\"] = (df2.retailSales - df2.retailSales.shift(4))/df2.retailSales.shift(4)\n",
    "df2[\"HPriceQDelta\"] = (df2.housePrice - df2.housePrice.shift(1))/df2.housePrice.shift(1)\n",
    "df2[\"PermQDela\"] = (df2.housingPermits - df2.housingPermits.shift(1))/df2.housingPermits.shift(1)\n",
    "df2[\"PermYrDela\"] = (df2.housingPermits - df2.housingPermits.shift(4))/df2.housingPermits.shift(4)\n",
    "df2[\"EmpQDela\"] = (df2.employment - df2.employment.shift(1))/df2.employment.shift(1)\n",
    "df2[\"recession\"] = round(df2[\"recession\"])\n",
    "df2[\"rec1Q\"] = df2['recession'].shift(-1).fillna(0)\n",
    "df2[\"rec2Q\"] = df2['recession'].shift(-2).fillna(0)\n",
    "df2[\"rec3Q\"] = df2['recession'].shift(-3).fillna(0)\n",
    "df2[\"rec4Q\"] = df2['recession'].shift(-4).fillna(0)\n",
    "df2 = df2.drop(['leadingIndex'], axis = 1)\n",
    "df2.tail()"
   ]
  },
  {
   "cell_type": "code",
   "execution_count": 22,
   "metadata": {},
   "outputs": [],
   "source": [
    "#this next format is to use only the most up-to-date data, even if it sacrifices 'fit'\n",
    "df4 = df4 = df2[['SMQDelta', 'DGQDelta', 'DGYrDelta',  'PermQDela', 'PermYrDela', 'EmpQDela', 'recession', 'rec1Q','rec2Q', 'rec3Q', 'rec4Q']].dropna()\n",
    "dfForecast = df4[-1:]\n",
    "#recession next quarter and the following 2 quarters\n",
    "y2=df4.rec2Q[0:-1] \n",
    "y3=df4.rec3Q[0:-1]\n",
    "y4=df4.rec4Q[0:-1]\n",
    "features = ['SMQDelta', 'DGQDelta', 'DGYrDelta',  'PermQDela', 'PermYrDela', 'EmpQDela', 'recession', 'rec1Q']\n",
    "x = df4[features]\n",
    "dfForecast = x[-1:]\n",
    "X = x[0:-1]\n",
    "train_X, val_X, train_y, val_y = train_test_split(X, y2, random_state=1)\n",
    "train_X3, val_X3, train_y3, val_y3 = train_test_split(X, y3, random_state=1)\n",
    "train_X4, val_X4, train_y4, val_y4 = train_test_split(X, y4, random_state=1)"
   ]
  },
  {
   "cell_type": "code",
   "execution_count": 12,
   "metadata": {},
   "outputs": [
    {
     "name": "stdout",
     "output_type": "stream",
     "text": [
      "{'bootstrap': [True, False],\n",
      " 'max_depth': [10, 20, 30, 40, 50, 60, 70, 80, 90, 100, 110, None],\n",
      " 'max_features': [1, 2, 3, 4, 5, 6, 7, 8],\n",
      " 'min_samples_leaf': [1, 2, 4],\n",
      " 'min_samples_split': [2, 5, 10],\n",
      " 'n_estimators': [200, 400, 600, 800, 1000, 1200, 1400, 1600, 1800, 2000]}\n"
     ]
    }
   ],
   "source": [
    "#random forest model\n",
    "from sklearn.ensemble import RandomForestClassifier\n",
    "from sklearn.model_selection import train_test_split\n",
    "from sklearn.metrics import mean_absolute_error\n",
    "from sklearn.model_selection import RandomizedSearchCV\n",
    "from pprint import pprint\n",
    "import numpy as np\n",
    "\n",
    "#Optimizing the RF Classifier  with RandomizesSearchCV\n",
    "\n",
    "#number of trees in random forest\n",
    "n_estimators = [int(x) for x in np.linspace(start=200, stop = 2000, num = 10)]\n",
    "#number of features to consider at every split\n",
    "max_features = [int(x) for x in ([x+1 for x in range(len(features))])]\n",
    "# documentation recommends this code for max_features:\n",
    "# max_features = ['auto', 'sqrt']\n",
    "# max number of levels in tree\n",
    "max_depth = [int(x) for x in np.linspace(10, 110, num=11)]\n",
    "max_depth.append(None)\n",
    "#minimum number of samples required to split a node\n",
    "min_samples_split = [2, 5, 10]\n",
    "#minimum number of samples required at each leaf node\n",
    "min_samples_leaf = [1,2,4]\n",
    "#method of selecting samples for training each tree\n",
    "bootstrap = [True, False]\n",
    "\n",
    "#create the random grid\n",
    "random_grid = {'n_estimators': n_estimators,\n",
    "              'max_features': max_features,\n",
    "              'max_depth': max_depth,\n",
    "              'min_samples_split': min_samples_split,\n",
    "              'min_samples_leaf': min_samples_leaf,\n",
    "              'bootstrap': bootstrap}\n",
    "\n",
    "pprint(random_grid)"
   ]
  },
  {
   "cell_type": "code",
   "execution_count": 13,
   "metadata": {},
   "outputs": [
    {
     "name": "stdout",
     "output_type": "stream",
     "text": [
      "Fitting 5 folds for each of 75 candidates, totalling 375 fits\n"
     ]
    },
    {
     "name": "stderr",
     "output_type": "stream",
     "text": [
      "[Parallel(n_jobs=-1)]: Done  33 tasks      | elapsed:   19.9s\n",
      "[Parallel(n_jobs=-1)]: Done 154 tasks      | elapsed:  1.7min\n",
      "[Parallel(n_jobs=-1)]: Done 357 tasks      | elapsed:  4.5min\n",
      "[Parallel(n_jobs=-1)]: Done 375 out of 375 | elapsed:  4.6min finished\n"
     ]
    }
   ],
   "source": [
    "rf = RandomForestClassifier()\n",
    "# Random search of parameters, using 3 fold cross validation, \n",
    "# search across n_iter different combinations, and use all available cores\n",
    "rf_random = RandomizedSearchCV(estimator = rf, param_distributions = random_grid, n_iter = 75, cv = 5, verbose=2, random_state=1, n_jobs = -1)\n",
    "# Fit the random search model\n",
    "rf_random.fit(train_X, train_y)\n",
    "pred = rf_random.predict_proba(val_X)"
   ]
  },
  {
   "cell_type": "code",
   "execution_count": 14,
   "metadata": {},
   "outputs": [
    {
     "data": {
      "text/plain": [
       "{'n_estimators': 800,\n",
       " 'min_samples_split': 5,\n",
       " 'min_samples_leaf': 4,\n",
       " 'max_features': 7,\n",
       " 'max_depth': 110,\n",
       " 'bootstrap': True}"
      ]
     },
     "execution_count": 14,
     "metadata": {},
     "output_type": "execute_result"
    }
   ],
   "source": [
    "rf_random.best_params_"
   ]
  },
  {
   "cell_type": "code",
   "execution_count": 19,
   "metadata": {},
   "outputs": [
    {
     "data": {
      "image/png": "[encoded data removed]",
      "text/plain": [
       "<Figure size 432x288 with 1 Axes>"
      ]
     },
     "metadata": {},
     "output_type": "display_data"
    },
    {
     "name": "stdout",
     "output_type": "stream",
     "text": [
      "Validation MAE for Random Forest Model: 0.1167864303575978\n"
     ]
    }
   ],
   "source": []
  },
  {
   "cell_type": "code",
   "execution_count": 21,
   "metadata": {},
   "outputs": [
    {
     "name": "stdout",
     "output_type": "stream",
     "text": [
      "[[0.99590327 0.00409673]]\n"
     ]
    }
   ],
   "source": []
  },
  {
   "cell_type": "code",
   "execution_count": 23,
   "metadata": {},
   "outputs": [
    {
     "name": "stdout",
     "output_type": "stream",
     "text": [
      "Fitting 5 folds for each of 75 candidates, totalling 375 fits\n"
     ]
    },
    {
     "name": "stderr",
     "output_type": "stream",
     "text": [
      "[Parallel(n_jobs=-1)]: Done  33 tasks      | elapsed:   20.2s\n",
      "[Parallel(n_jobs=-1)]: Done 154 tasks      | elapsed:  1.6min\n",
      "[Parallel(n_jobs=-1)]: Done 357 tasks      | elapsed:  4.1min\n",
      "[Parallel(n_jobs=-1)]: Done 375 out of 375 | elapsed:  4.3min finished\n"
     ]
    },
    {
     "data": {
      "text/plain": [
       "RandomizedSearchCV(cv=5, error_score='raise',\n",
       "          estimator=RandomForestClassifier(bootstrap=True, class_weight=None, criterion='gini',\n",
       "            max_depth=None, max_features='auto', max_leaf_nodes=None,\n",
       "            min_impurity_decrease=0.0, min_impurity_split=None,\n",
       "            min_samples_leaf=1, min_samples_split=2,\n",
       "            min_weight_fraction_leaf=0.0, n_estimators=10, n_jobs=1,\n",
       "            oob_score=False, random_state=None, verbose=0,\n",
       "            warm_start=False),\n",
       "          fit_params=None, iid=True, n_iter=75, n_jobs=-1,\n",
       "          param_distributions={'n_estimators': [200, 400, 600, 800, 1000, 1200, 1400, 1600, 1800, 2000], 'max_features': [1, 2, 3, 4, 5, 6, 7, 8], 'max_depth': [10, 20, 30, 40, 50, 60, 70, 80, 90, 100, 110, None], 'min_samples_split': [2, 5, 10], 'min_samples_leaf': [1, 2, 4], 'bootstrap': [True, False]},\n",
       "          pre_dispatch='2*n_jobs', random_state=1, refit=True,\n",
       "          return_train_score='warn', scoring=None, verbose=2)"
      ]
     },
     "execution_count": 23,
     "metadata": {},
     "output_type": "execute_result"
    }
   ],
   "source": [
    "#training model for recessions 2 quarters down the road\n",
    "rf_random3 = RandomizedSearchCV(estimator = rf, param_distributions = random_grid, n_iter = 75, cv = 5, verbose=2, random_state=1, n_jobs = -1)\n",
    "rf_random3.fit(train_X3, train_y3)"
   ]
  },
  {
   "cell_type": "code",
   "execution_count": 27,
   "metadata": {},
   "outputs": [
    {
     "name": "stdout",
     "output_type": "stream",
     "text": [
      "Fitting 5 folds for each of 75 candidates, totalling 375 fits\n"
     ]
    },
    {
     "name": "stderr",
     "output_type": "stream",
     "text": [
      "[Parallel(n_jobs=-1)]: Done  33 tasks      | elapsed:   22.3s\n",
      "[Parallel(n_jobs=-1)]: Done 154 tasks      | elapsed:  1.8min\n",
      "[Parallel(n_jobs=-1)]: Done 357 tasks      | elapsed:  4.7min\n",
      "[Parallel(n_jobs=-1)]: Done 375 out of 375 | elapsed:  4.9min finished\n"
     ]
    },
    {
     "data": {
      "text/plain": [
       "RandomizedSearchCV(cv=5, error_score='raise',\n",
       "          estimator=RandomForestClassifier(bootstrap=True, class_weight=None, criterion='gini',\n",
       "            max_depth=None, max_features='auto', max_leaf_nodes=None,\n",
       "            min_impurity_decrease=0.0, min_impurity_split=None,\n",
       "            min_samples_leaf=1, min_samples_split=2,\n",
       "            min_weight_fraction_leaf=0.0, n_estimators=10, n_jobs=1,\n",
       "            oob_score=False, random_state=None, verbose=0,\n",
       "            warm_start=False),\n",
       "          fit_params=None, iid=True, n_iter=75, n_jobs=-1,\n",
       "          param_distributions={'n_estimators': [200, 400, 600, 800, 1000, 1200, 1400, 1600, 1800, 2000], 'max_features': [1, 2, 3, 4, 5, 6, 7, 8], 'max_depth': [10, 20, 30, 40, 50, 60, 70, 80, 90, 100, 110, None], 'min_samples_split': [2, 5, 10], 'min_samples_leaf': [1, 2, 4], 'bootstrap': [True, False]},\n",
       "          pre_dispatch='2*n_jobs', random_state=1, refit=True,\n",
       "          return_train_score='warn', scoring=None, verbose=2)"
      ]
     },
     "execution_count": 27,
     "metadata": {},
     "output_type": "execute_result"
    }
   ],
   "source": [
    "#training model for recessions 2 quarters down the road\n",
    "rf_random4 = RandomizedSearchCV(estimator = rf, param_distributions = random_grid, n_iter = 75, cv = 5, verbose=2, random_state=1, n_jobs = -1)\n",
    "rf_random4.fit(train_X4, train_y4)"
   ]
  },
  {
   "cell_type": "code",
   "execution_count": 28,
   "metadata": {},
   "outputs": [
    {
     "data": {
      "image/png": "[encoded data removed]",
      "text/plain": [
       "<Figure size 432x288 with 1 Axes>"
      ]
     },
     "metadata": {},
     "output_type": "display_data"
    },
    {
     "name": "stdout",
     "output_type": "stream",
     "text": [
      "Validation MAE for RF Q2: 0.1167864303575978\n"
     ]
    },
    {
     "data": {
      "image/png": "[encoded data removed]",
      "text/plain": [
       "<Figure size 432x288 with 1 Axes>"
      ]
     },
     "metadata": {},
     "output_type": "display_data"
    },
    {
     "name": "stdout",
     "output_type": "stream",
     "text": [
      "Validation MAE for RF Q3: 0.17206123085487307\n"
     ]
    },
    {
     "data": {
      "image/png": "[encoded data removed]",
      "text/plain": [
       "<Figure size 432x288 with 1 Axes>"
      ]
     },
     "metadata": {},
     "output_type": "display_data"
    },
    {
     "name": "stdout",
     "output_type": "stream",
     "text": [
      "Validation MAE for RF Q4: 0.19615703399809006\n"
     ]
    }
   ],
   "source": [
    "preds = [item[1] for item in pred]\n",
    "plt.scatter(preds, val_y, s=10)\n",
    "plt.xlabel(\"predicted liklihood of recession\")\n",
    "plt.ylabel(\"Observed State (1 is Recession)\")\n",
    "plt.show()\n",
    "rf_val_mae = mean_absolute_error(preds, val_y)\n",
    "print(\"Validation MAE for RF Q2: {}\".format(rf_val_mae))\n",
    "\n",
    "pred3 = rf_random3.predict_proba(val_X3)\n",
    "preds3 = [item[1] for item in pred3]\n",
    "plt.scatter(preds3, val_y3, s=10)\n",
    "plt.xlabel(\"predicted liklihood of recession\")\n",
    "plt.ylabel(\"Observed State (1 is Recession)\")\n",
    "plt.show()\n",
    "rf_val_mae = mean_absolute_error(preds3, val_y3)\n",
    "print(\"Validation MAE for RF Q3: {}\".format(rf_val_mae))\n",
    "\n",
    "pred4 = rf_random4.predict_proba(val_X4)\n",
    "preds4 = [item[1] for item in pred3]\n",
    "plt.scatter(preds4, val_y4, s=10)\n",
    "plt.xlabel(\"predicted liklihood of recession\")\n",
    "plt.ylabel(\"Observed State (1 is Recession)\")\n",
    "plt.show()\n",
    "rf_val_mae = mean_absolute_error(preds4, val_y4)\n",
    "print(\"Validation MAE for RF Q4: {}\".format(rf_val_mae))"
   ]
  },
  {
   "cell_type": "code",
   "execution_count": 29,
   "metadata": {},
   "outputs": [
    {
     "name": "stdout",
     "output_type": "stream",
     "text": [
      "[[0.99590327 0.00409673]] [[0.94395376 0.05604624]] [[0.94395376 0.05604624]]\n"
     ]
    }
   ],
   "source": [
    "forecast = rf_random.predict_proba(dfForecast)\n",
    "forecast3 = rf_random3.predict_proba(dfForecast)\n",
    "forecast4 = rf_random4.predict_proba(dfForecast)\n",
    "print(forecast, forecast3, forecast4)\n"
   ]
  }
 ],
 "metadata": {
  "kernelspec": {
   "display_name": "Python 3",
   "language": "python",
   "name": "python3"
  },
  "language_info": {
   "codemirror_mode": {
    "name": "ipython",
    "version": 3
   },
   "file_extension": ".py",
   "mimetype": "text/x-python",
   "name": "python",
   "nbconvert_exporter": "python",
   "pygments_lexer": "ipython3",
   "version": "3.6.5"
  }
 },
 "nbformat": 4,
 "nbformat_minor": 2
}
